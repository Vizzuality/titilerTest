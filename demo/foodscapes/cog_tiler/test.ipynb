{
 "cells": [
  {
   "cell_type": "code",
   "execution_count": 35,
   "metadata": {
    "tags": []
   },
   "outputs": [],
   "source": [
    "import json\n",
    "\n",
    "import httpx\n",
    "from folium import Map, TileLayer, LayerControl"
   ]
  },
  {
   "cell_type": "code",
   "execution_count": 25,
   "metadata": {},
   "outputs": [],
   "source": [
    "titiler_endpoint = \"http://127.0.0.1:8000\"  # Developmentseed Demo endpoint. Please be kind.\n",
    "fs_url = \"/home/bielstela/vizzuality/dev/foodscapes_tiler/cogs/Foodscapes_combinedGEOTIFF_final_COG.tif\"\n",
    "risk_url = \"/home/bielstela/vizzuality/dev/foodscapes_tiler/cogs/biodiversityrisk_COG.tif\""
   ]
  },
  {
   "cell_type": "code",
   "execution_count": 13,
   "metadata": {},
   "outputs": [
    {
     "name": "stdout",
     "output_type": "stream",
     "text": [
      "{'bounds': [-180.0, -90.0, 180.0, 90.0], 'minzoom': 0, 'maxzoom': 1, 'band_metadata': [['1', {}]], 'band_descriptions': [['1', '']], 'dtype': 'int16', 'nodata_type': 'Nodata', 'colorinterp': ['gray'], 'width': 7200, 'count': 1, 'nodata_value': -9999.0, 'driver': 'GTiff', 'overviews': [2, 4, 8], 'height': 3600}\n"
     ]
    }
   ],
   "source": [
    "# Fetch File Metadata to get min/max rescaling values (because the file is stored as float32)\n",
    "r = httpx.get(\n",
    "    f\"{titiler_endpoint}/cog/info\",\n",
    "    params = {\n",
    "        \"url\": url,\n",
    "    }\n",
    ").json()\n",
    "\n",
    "bounds = r[\"bounds\"]\n",
    "print(r)"
   ]
  },
  {
   "cell_type": "code",
   "execution_count": 14,
   "metadata": {
    "collapsed": true,
    "jupyter": {
     "outputs_hidden": true,
     "source_hidden": true
    },
    "tags": []
   },
   "outputs": [
    {
     "name": "stdout",
     "output_type": "stream",
     "text": [
      "{\n",
      "    \"1\": {\n",
      "        \"min\": 1.0,\n",
      "        \"max\": 1110.0,\n",
      "        \"mean\": 263.6968045882835,\n",
      "        \"count\": 170870.0,\n",
      "        \"sum\": 45057873.0,\n",
      "        \"std\": 336.2198516659466,\n",
      "        \"median\": 102.0,\n",
      "        \"majority\": 1.0,\n",
      "        \"minority\": 610.0,\n",
      "        \"unique\": 86.0,\n",
      "        \"histogram\": [\n",
      "            [\n",
      "                101152.0,\n",
      "                7368.0,\n",
      "                703.0,\n",
      "                16221.0,\n",
      "                2924.0,\n",
      "                14255.0,\n",
      "                10542.0,\n",
      "                250.0,\n",
      "                8238.0,\n",
      "                9217.0\n",
      "            ],\n",
      "            [\n",
      "                1.0,\n",
      "                111.9,\n",
      "                222.8,\n",
      "                333.70000000000005,\n",
      "                444.6,\n",
      "                555.5,\n",
      "                666.4000000000001,\n",
      "                777.3000000000001,\n",
      "                888.2,\n",
      "                999.1,\n",
      "                1110.0\n",
      "            ]\n",
      "        ],\n",
      "        \"valid_percent\": 32.59,\n",
      "        \"masked_pixels\": 353418.0,\n",
      "        \"valid_pixels\": 170870.0,\n",
      "        \"percentile_98\": 1006.0,\n",
      "        \"percentile_2\": 1.0\n",
      "    }\n",
      "}\n"
     ]
    }
   ],
   "source": [
    "# Fetch File Metadata to get min/max rescaling values (because the file is stored as float32)\n",
    "r = httpx.get(\n",
    "    f\"{titiler_endpoint}/cog/statistics\",\n",
    "    params = {\n",
    "        \"url\": url,\n",
    "    }\n",
    ").json()\n",
    "\n",
    "print(json.dumps(r, indent=4))"
   ]
  },
  {
   "cell_type": "code",
   "execution_count": 19,
   "metadata": {},
   "outputs": [],
   "source": [
    "with open(\"foodscapes_cmap.json\") as f:\n",
    "    foodscpaes_cmap = json.load(f)"
   ]
  },
  {
   "cell_type": "code",
   "execution_count": 38,
   "metadata": {},
   "outputs": [
    {
     "data": {
      "text/html": [
       "<div style=\"width:100%;\"><div style=\"position:relative;width:100%;height:0;padding-bottom:60%;\"><span style=\"color:#565656\">Make this Notebook Trusted to load map: File -> Trust Notebook</span><iframe srcdoc=\"&lt;!DOCTYPE html&gt;\n",
       "&lt;html&gt;\n",
       "&lt;head&gt;\n",
       "    \n",
       "    &lt;meta http-equiv=&quot;content-type&quot; content=&quot;text/html; charset=UTF-8&quot; /&gt;\n",
       "    \n",
       "        &lt;script&gt;\n",
       "            L_NO_TOUCH = false;\n",
       "            L_DISABLE_3D = false;\n",
       "        &lt;/script&gt;\n",
       "    \n",
       "    &lt;style&gt;html, body {width: 100%;height: 100%;margin: 0;padding: 0;}&lt;/style&gt;\n",
       "    &lt;style&gt;#map {position:absolute;top:0;bottom:0;right:0;left:0;}&lt;/style&gt;\n",
       "    &lt;script src=&quot;https://cdn.jsdelivr.net/npm/leaflet@1.6.0/dist/leaflet.js&quot;&gt;&lt;/script&gt;\n",
       "    &lt;script src=&quot;https://code.jquery.com/jquery-1.12.4.min.js&quot;&gt;&lt;/script&gt;\n",
       "    &lt;script src=&quot;https://maxcdn.bootstrapcdn.com/bootstrap/3.2.0/js/bootstrap.min.js&quot;&gt;&lt;/script&gt;\n",
       "    &lt;script src=&quot;https://cdnjs.cloudflare.com/ajax/libs/Leaflet.awesome-markers/2.0.2/leaflet.awesome-markers.js&quot;&gt;&lt;/script&gt;\n",
       "    &lt;link rel=&quot;stylesheet&quot; href=&quot;https://cdn.jsdelivr.net/npm/leaflet@1.6.0/dist/leaflet.css&quot;/&gt;\n",
       "    &lt;link rel=&quot;stylesheet&quot; href=&quot;https://maxcdn.bootstrapcdn.com/bootstrap/3.2.0/css/bootstrap.min.css&quot;/&gt;\n",
       "    &lt;link rel=&quot;stylesheet&quot; href=&quot;https://maxcdn.bootstrapcdn.com/bootstrap/3.2.0/css/bootstrap-theme.min.css&quot;/&gt;\n",
       "    &lt;link rel=&quot;stylesheet&quot; href=&quot;https://maxcdn.bootstrapcdn.com/font-awesome/4.6.3/css/font-awesome.min.css&quot;/&gt;\n",
       "    &lt;link rel=&quot;stylesheet&quot; href=&quot;https://cdnjs.cloudflare.com/ajax/libs/Leaflet.awesome-markers/2.0.2/leaflet.awesome-markers.css&quot;/&gt;\n",
       "    &lt;link rel=&quot;stylesheet&quot; href=&quot;https://cdn.jsdelivr.net/gh/python-visualization/folium/folium/templates/leaflet.awesome.rotate.min.css&quot;/&gt;\n",
       "    \n",
       "            &lt;meta name=&quot;viewport&quot; content=&quot;width=device-width,\n",
       "                initial-scale=1.0, maximum-scale=1.0, user-scalable=no&quot; /&gt;\n",
       "            &lt;style&gt;\n",
       "                #map_19ce1e38660aa2093e63c290c14bbcb3 {\n",
       "                    position: relative;\n",
       "                    width: 60.0%;\n",
       "                    height: 60.0%;\n",
       "                    left: 0.0%;\n",
       "                    top: 0.0%;\n",
       "                }\n",
       "            &lt;/style&gt;\n",
       "        \n",
       "&lt;/head&gt;\n",
       "&lt;body&gt;\n",
       "    \n",
       "    \n",
       "            &lt;div class=&quot;folium-map&quot; id=&quot;map_19ce1e38660aa2093e63c290c14bbcb3&quot; &gt;&lt;/div&gt;\n",
       "        \n",
       "&lt;/body&gt;\n",
       "&lt;script&gt;\n",
       "    \n",
       "    \n",
       "            var map_19ce1e38660aa2093e63c290c14bbcb3 = L.map(\n",
       "                &quot;map_19ce1e38660aa2093e63c290c14bbcb3&quot;,\n",
       "                {\n",
       "                    center: [0, 0],\n",
       "                    crs: L.CRS.EPSG3857,\n",
       "                    zoom: 1,\n",
       "                    zoomControl: true,\n",
       "                    preferCanvas: false,\n",
       "                }\n",
       "            );\n",
       "\n",
       "            \n",
       "\n",
       "        \n",
       "    \n",
       "            var tile_layer_48f5a3ffca8ac0e667fa8b45f5a21814 = L.tileLayer(\n",
       "                &quot;https://{s}.tile.openstreetmap.org/{z}/{x}/{y}.png&quot;,\n",
       "                {&quot;attribution&quot;: &quot;Data by \\u0026copy; \\u003ca href=\\&quot;http://openstreetmap.org\\&quot;\\u003eOpenStreetMap\\u003c/a\\u003e, under \\u003ca href=\\&quot;http://www.openstreetmap.org/copyright\\&quot;\\u003eODbL\\u003c/a\\u003e.&quot;, &quot;detectRetina&quot;: false, &quot;maxNativeZoom&quot;: 18, &quot;maxZoom&quot;: 18, &quot;minZoom&quot;: 0, &quot;noWrap&quot;: false, &quot;opacity&quot;: 1, &quot;subdomains&quot;: &quot;abc&quot;, &quot;tms&quot;: false}\n",
       "            ).addTo(map_19ce1e38660aa2093e63c290c14bbcb3);\n",
       "        \n",
       "    \n",
       "            var tile_layer_655f0bd67ffaa10adfadf5a3fe46398e = L.tileLayer(\n",
       "                &quot;http://127.0.0.1:8000/cog/tiles/WebMercatorQuad/{z}/{x}/{y}@1x?url=%2Fhome%2Fbielstela%2Fvizzuality%2Fdev%2Ffoodscapes_tiler%2Fcogs%2FFoodscapes_combinedGEOTIFF_final_COG.tif\\u0026colormap=%7B%221%22%3A+%22%23BCBCBC%22%2C+%222%22%3A+%22%23FF2A00%22%2C+%223%22%3A+%22%23ADD8E6%22%2C+%22101%22%3A+%22%23FFEBBE%22%2C+%22102%22%3A+%22%23F9E5BA%22%2C+%22103%22%3A+%22%23F4E0B5%22%2C+%22104%22%3A+%22%23E3CFA8%22%2C+%22105%22%3A+%22%23D2BE9A%22%2C+%22109%22%3A+%22%23CCB896%22%2C+%22110%22%3A+%22%23BDAA8B%22%2C+%22201%22%3A+%22%23BED2FF%22%2C+%22202%22%3A+%22%2396A9DA%22%2C+%22203%22%3A+%22%238495C7%22%2C+%22204%22%3A+%22%237282B4%22%2C+%22205%22%3A+%22%236270A1%22%2C+%22206%22%3A+%22%23536089%22%2C+%22209%22%3A+%22%23363F6E%22%2C+%22210%22%3A+%22%232B3257%22%2C+%22301%22%3A+%22%23F50000%22%2C+%22304%22%3A+%22%23E00000%22%2C+%22306%22%3A+%22%23D40000%22%2C+%22401%22%3A+%22%23D1B06F%22%2C+%22402%22%3A+%22%23C29F5C%22%2C+%22403%22%3A+%22%23A5813A%22%2C+%22404%22%3A+%22%2396722C%22%2C+%22406%22%3A+%22%23876420%22%2C+%22407%22%3A+%22%23795715%22%2C+%22408%22%3A+%22%236A4A0C%22%2C+%22409%22%3A+%22%235B3E05%22%2C+%22410%22%3A+%22%233B2700%22%2C+%22501%22%3A+%22%23D9CA77%22%2C+%22504%22%3A+%22%23B1A241%22%2C+%22506%22%3A+%22%23A49632%22%2C+%22508%22%3A+%22%23978925%22%2C+%22509%22%3A+%22%237D700F%22%2C+%22510%22%3A+%22%236F6407%22%2C+%22601%22%3A+%22%23D4F0FF%22%2C+%22602%22%3A+%22%23B3DDF2%22%2C+%22603%22%3A+%22%2394CBE5%22%2C+%22604%22%3A+%22%2377BAD8%22%2C+%22605%22%3A+%22%2372B3CF%22%2C+%22606%22%3A+%22%235398B3%22%2C+%22607%22%3A+%22%23007EA1%22%2C+%22609%22%3A+%22%23006783%22%2C+%22610%22%3A+%22%23005168%22%2C+%22701%22%3A+%22%23FFD9D9%22%2C+%22702%22%3A+%22%23EFB4B4%22%2C+%22703%22%3A+%22%23DE9393%22%2C+%22704%22%3A+%22%23CE7575%22%2C+%22705%22%3A+%22%23BD5959%22%2C+%22706%22%3A+%22%23A64E4E%22%2C+%22707%22%3A+%22%23904444%22%2C+%22708%22%3A+%22%23803C3C%22%2C+%22709%22%3A+%22%23700000%22%2C+%22710%22%3A+%22%23560000%22%2C+%22801%22%3A+%22%23CCCCCC%22%2C+%22802%22%3A+%22%23B3B3B3%22%2C+%22803%22%3A+%22%23999999%22%2C+%22804%22%3A+%22%234D4D4D%22%2C+%22901%22%3A+%22%23BED2FF%22%2C+%22902%22%3A+%22%239FAFEF%22%2C+%22903%22%3A+%22%236967D0%22%2C+%22904%22%3A+%22%235A58B3%22%2C+%22905%22%3A+%22%235352A6%22%2C+%22906%22%3A+%22%23443B8E%22%2C+%22909%22%3A+%22%235128A2%22%2C+%22910%22%3A+%22%234F1892%22%2C+%221001%22%3A+%22%23DBF0B3%22%2C+%221002%22%3A+%22%23C5DF93%22%2C+%221003%22%3A+%22%23A3CA53%22%2C+%221004%22%3A+%22%2393B44A%22%2C+%221005%22%3A+%22%23699D00%22%2C+%221006%22%3A+%22%23568100%22%2C+%221007%22%3A+%22%23507800%22%2C+%221009%22%3A+%22%23446600%22%2C+%221010%22%3A+%22%23395700%22%2C+%221101%22%3A+%22%23F5F57A%22%2C+%221102%22%3A+%22%23E5E565%22%2C+%221103%22%3A+%22%23D5D553%22%2C+%221104%22%3A+%22%23C8C84D%22%2C+%221105%22%3A+%22%23A0A035%22%2C+%221106%22%3A+%22%238C8C0F%22%2C+%221107%22%3A+%22%23979729%22%2C+%221108%22%3A+%22%23666600%22%2C+%221109%22%3A+%22%23595900%22%2C+%221110%22%3A+%22%235B5B00%22%7D\\u0026expression=where%28%28b1%3D%3D701%29%7C%28b1%3D%3D702%29%7C%28b1%3D%3D703%29%7C%28b1%3D%3D704%29%7C%28b1%3D%3D705%29%7C%28b1%3D%3D706%29%7C%28b1%3D%3D707%29%7C%28b1%3D%3D708%29%7C%28b1%3D%3D709%29%2C+b1%2C+0%29%3B&quot;,\n",
       "                {&quot;attribution&quot;: &quot;Something&quot;, &quot;detectRetina&quot;: false, &quot;maxNativeZoom&quot;: 18, &quot;maxZoom&quot;: 18, &quot;minZoom&quot;: 0, &quot;noWrap&quot;: false, &quot;opacity&quot;: 1, &quot;subdomains&quot;: &quot;abc&quot;, &quot;tms&quot;: false}\n",
       "            ).addTo(map_19ce1e38660aa2093e63c290c14bbcb3);\n",
       "        \n",
       "    \n",
       "            var tile_layer_428c1fe4b03065f93ac7cdd694838324 = L.tileLayer(\n",
       "                &quot;http://127.0.0.1:8000/cog/tiles/WebMercatorQuad/{z}/{x}/{y}@1x?url=%2Fhome%2Fbielstela%2Fvizzuality%2Fdev%2Ffoodscapes_tiler%2Fcogs%2Fbiodiversityrisk_COG.tif\\u0026colormap_name=viridis\\u0026expression=where%28b1%3E%3D0%2C+b1%2C+0%29%3B&quot;,\n",
       "                {&quot;attribution&quot;: &quot;DigitalGlobe OpenData&quot;, &quot;detectRetina&quot;: false, &quot;maxNativeZoom&quot;: 18, &quot;maxZoom&quot;: 18, &quot;minZoom&quot;: 0, &quot;noWrap&quot;: false, &quot;opacity&quot;: 1, &quot;subdomains&quot;: &quot;abc&quot;, &quot;tms&quot;: false}\n",
       "            ).addTo(map_19ce1e38660aa2093e63c290c14bbcb3);\n",
       "        \n",
       "    \n",
       "            var layer_control_9a0863a7dd9cba27b206f05326353e1c = {\n",
       "                base_layers : {\n",
       "                    &quot;openstreetmap&quot; : tile_layer_48f5a3ffca8ac0e667fa8b45f5a21814,\n",
       "                    &quot;FS&quot; : tile_layer_655f0bd67ffaa10adfadf5a3fe46398e,\n",
       "                    &quot;Risk&quot; : tile_layer_428c1fe4b03065f93ac7cdd694838324,\n",
       "                },\n",
       "                overlays :  {\n",
       "                },\n",
       "            };\n",
       "            L.control.layers(\n",
       "                layer_control_9a0863a7dd9cba27b206f05326353e1c.base_layers,\n",
       "                layer_control_9a0863a7dd9cba27b206f05326353e1c.overlays,\n",
       "                {&quot;autoZIndex&quot;: true, &quot;collapsed&quot;: true, &quot;position&quot;: &quot;topright&quot;}\n",
       "            ).addTo(map_19ce1e38660aa2093e63c290c14bbcb3);\n",
       "            tile_layer_655f0bd67ffaa10adfadf5a3fe46398e.remove();\n",
       "            tile_layer_428c1fe4b03065f93ac7cdd694838324.remove();\n",
       "        \n",
       "&lt;/script&gt;\n",
       "&lt;/html&gt;\" style=\"position:absolute;width:100%;height:100%;left:0;top:0;border:none !important;\" allowfullscreen webkitallowfullscreen mozallowfullscreen></iframe></div></div>"
      ],
      "text/plain": [
       "<folium.folium.Map at 0x7fb36ac4f640>"
      ]
     },
     "execution_count": 38,
     "metadata": {},
     "output_type": "execute_result"
    }
   ],
   "source": [
    "def make_expression(filter_by: list=None):\n",
    "    if filter_by:\n",
    "        filter_parts = \"|\".join([f\"(b1=={x})\" for x in filter_by])\n",
    "        return f\"where({filter_parts}, b1, 0);\"\n",
    "    else:\n",
    "        return \"\"\n",
    "\n",
    "filter_by = list(range(701, 710))\n",
    "\n",
    "r1 = httpx.get(\n",
    "    f\"{titiler_endpoint}/cog/tilejson.json\",\n",
    "    params = {\n",
    "        \"url\": fs_url,\n",
    "        \"colormap\":json.dumps(cm),\n",
    "        \"expression\": make_expression(filter_by)\n",
    "    }\n",
    ").json()\n",
    "\n",
    "r2 = httpx.get(\n",
    "    f\"{titiler_endpoint}/cog/tilejson.json\",\n",
    "    params = {\n",
    "        \"url\": risk_url,\n",
    "        \"colormap_name\": \"viridis\",\n",
    "        \"expression\": \"where(b1>=0, b1, 0);\"\n",
    "    }\n",
    ").json()\n",
    "\n",
    "m = Map(width='60%', height='60%', zoom_start=2)\n",
    "\n",
    "fs_layer = TileLayer(\n",
    "    tiles=r1[\"tiles\"][0],\n",
    "    opacity=1,\n",
    "    name=\"FS\",\n",
    "    attr=\"Something\"\n",
    ")\n",
    "fs_layer.add_to(m)\n",
    "\n",
    "risk_layer = TileLayer(\n",
    "    tiles=r2[\"tiles\"][0],\n",
    "    opacity=1,\n",
    "    name=\"Risk\",\n",
    "    attr=\"DigitalGlobe OpenData\"\n",
    ")\n",
    "risk_layer.add_to(m)\n",
    "\n",
    "LayerControl().add_to(m)\n",
    "m"
   ]
  },
  {
   "cell_type": "code",
   "execution_count": 30,
   "metadata": {},
   "outputs": [
    {
     "data": {
      "text/plain": [
       "'where((b1==701)|(b1==702)|(b1==703)|(b1==704)|(b1==705)|(b1==706)|(b1==707)|(b1==708)|(b1==709), b1, 0);'"
      ]
     },
     "execution_count": 30,
     "metadata": {},
     "output_type": "execute_result"
    }
   ],
   "source": [
    "expression"
   ]
  },
  {
   "cell_type": "code",
   "execution_count": null,
   "metadata": {},
   "outputs": [],
   "source": []
  }
 ],
 "metadata": {
  "kernelspec": {
   "display_name": "Python 3 (ipykernel)",
   "language": "python",
   "name": "python3"
  },
  "language_info": {
   "codemirror_mode": {
    "name": "ipython",
    "version": 3
   },
   "file_extension": ".py",
   "mimetype": "text/x-python",
   "name": "python",
   "nbconvert_exporter": "python",
   "pygments_lexer": "ipython3",
   "version": "3.10.8"
  }
 },
 "nbformat": 4,
 "nbformat_minor": 4
}
