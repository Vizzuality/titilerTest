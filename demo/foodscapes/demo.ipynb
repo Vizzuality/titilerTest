{
 "cells": [
  {
   "cell_type": "code",
   "execution_count": null,
   "metadata": {},
   "outputs": [],
   "source": [
    "import json\n",
    "import requests\n",
    "from folium import Map, TileLayer, GeoJson\n",
    "\n",
    "endpoint = \"\""
   ]
  },
  {
   "cell_type": "markdown",
   "metadata": {},
   "source": [
    "### Create Mosaic for the whole collection"
   ]
  },
  {
   "cell_type": "code",
   "execution_count": null,
   "metadata": {},
   "outputs": [],
   "source": [
    "# create Mosaic\n",
    "body = {\n",
    "    \"collections\": [\"foodscape-data-stac\"],\n",
    "}\n",
    "\n",
    "response = requests.post(\n",
    "    f\"{endpoint}/mosaic/register\",\n",
    "    json=body,\n",
    ").json()\n",
    "print(response)"
   ]
  },
  {
   "cell_type": "code",
   "execution_count": null,
   "metadata": {},
   "outputs": [],
   "source": [
    "m = Map(\n",
    "    location=(0, 0),\n",
    "    zoom_start=5\n",
    ")\n",
    "\n",
    "# Fetch Tilejson (we HAVE TO add the asset name)\n",
    "tj_resp = requests.get(\n",
    "    response['url'],\n",
    "    params={\n",
    "        # Info to add to the tilejson response\n",
    "        \"minzoom\": 4,\n",
    "        \"maxzoom\": 12,\n",
    "        # query parameter to add to the tile URL\n",
    "        \"assets\": \"cog\",\n",
    "        \"rescale\": \"0,100\",\n",
    "        \"colormap_name\": \"viridis\",\n",
    "    }\n",
    ").json()\n",
    "print(tj_resp)\n",
    "\n",
    "aod_layer = TileLayer(\n",
    "    tiles=tj_resp[\"tiles\"][0],\n",
    "    attr=\"Mosaic\",\n",
    "    min_zoom=4,\n",
    "    max_zoom=12,\n",
    "    max_native_zoom=12,\n",
    ")\n",
    "aod_layer.add_to(m)\n",
    "m"
   ]
  }
 ],
 "metadata": {
  "kernelspec": {
   "display_name": "Python 3",
   "language": "python",
   "name": "python3"
  },
  "language_info": {
   "codemirror_mode": {
    "name": "ipython",
    "version": 3
   },
   "file_extension": ".py",
   "mimetype": "text/x-python",
   "name": "python",
   "nbconvert_exporter": "python",
   "pygments_lexer": "ipython3",
   "version": "3.8.10 (default, Jun 22 2022, 20:18:18) \n[GCC 9.4.0]"
  },
  "vscode": {
   "interpreter": {
    "hash": "31f2aee4e71d21fbe5cf8b01ff0e069b9275f58929596ceb00d14d90e3e16cd6"
   }
  }
 },
 "nbformat": 4,
 "nbformat_minor": 4
}
