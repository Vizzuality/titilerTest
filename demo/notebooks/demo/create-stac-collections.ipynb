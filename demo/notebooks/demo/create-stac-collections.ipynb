{
 "cells": [
  {
   "cell_type": "code",
   "execution_count": null,
   "metadata": {},
   "outputs": [],
   "source": [
    "!micromamba install -c conda-forge boto3 rasterio shapely pystac -y"
   ]
  },
  {
   "cell_type": "code",
   "execution_count": null,
   "metadata": {},
   "outputs": [],
   "source": [
    "import pystac\n",
    "from pathlib import Path\n",
    "from pystac.extensions.eo import Band, EOExtension\n",
    "from pystac.extensions.projection import AssetProjectionExtension\n",
    "import os\n",
    "import urllib.request\n",
    "from tempfile import TemporaryDirectory\n",
    "\n",
    "import rasterio\n",
    "from shapely.geometry import Polygon, mapping\n",
    "from datetime import datetime\n",
    "import boto3\n",
    "import json"
   ]
  },
  {
   "cell_type": "code",
   "execution_count": null,
   "metadata": {},
   "outputs": [],
   "source": [
    "def get_bbox_and_footprint(raster_uri):\n",
    "    with rasterio.open(raster_uri) as ds:\n",
    "        bounds = ds.bounds\n",
    "        bbox = [bounds.left, bounds.bottom, bounds.right, bounds.top]\n",
    "        footprint = Polygon([\n",
    "            [bounds.left, bounds.bottom],\n",
    "            [bounds.left, bounds.top],\n",
    "            [bounds.right, bounds.top],\n",
    "            [bounds.right, bounds.bottom]\n",
    "        ])\n",
    "        bands = []\n",
    "        bands_descriptions = list(ds.descriptions)\n",
    "        for i in range(0, ds.count):\n",
    "            band_name = bands_descriptions[i] if bands_descriptions[i] else f\"band_{i+1}\"\n",
    "            bands.append(Band.create(name=band_name, \n",
    "                                    common_name=band_name,\n",
    "                                    description=band_name))\n",
    "\n",
    "        return (bbox, mapping(footprint), bands)"
   ]
  },
  {
   "cell_type": "markdown",
   "metadata": {},
   "source": [
    "## Create catalog and collection for foodscape demo"
   ]
  },
  {
   "cell_type": "code",
   "execution_count": null,
   "metadata": {},
   "outputs": [],
   "source": [
    "folder_path = Path(\"data/raw/spam2010v2r0_global_prod.geotiff\")\n",
    "file_name = \"spam2010V2r0_global_P_ACOF_A.tif\"\n",
    "img_path = folder_path.joinpath(file_name)"
   ]
  },
  {
   "cell_type": "code",
   "execution_count": null,
   "metadata": {},
   "outputs": [],
   "source": [
    "catalog = pystac.Catalog(id='Landgriffon-catalog', \n",
    "                        description='Tutorial catalog.')"
   ]
  },
  {
   "cell_type": "markdown",
   "metadata": {},
   "source": [
    "## Create catalog and collection for landgriffon demo"
   ]
  },
  {
   "cell_type": "code",
   "execution_count": null,
   "metadata": {},
   "outputs": [],
   "source": [
    "folder_path = Path(\"data/raw/spam2010v2r0_global_prod.geotiff\")\n",
    "file_name = \"spam2010V2r0_global_P_ACOF_A.tif\"\n",
    "img_path = folder_path.joinpath(file_name)"
   ]
  },
  {
   "cell_type": "code",
   "execution_count": null,
   "metadata": {},
   "outputs": [],
   "source": [
    "catalog = pystac.Catalog(id='Landgriffon-catalog', \n",
    "                        description='Tutorial catalog.')"
   ]
  }
 ],
 "metadata": {
  "kernelspec": {
   "display_name": "Python 3",
   "language": "python",
   "name": "python3"
  },
  "language_info": {
   "codemirror_mode": {
    "name": "ipython",
    "version": 3
   },
   "file_extension": ".py",
   "mimetype": "text/x-python",
   "name": "python",
   "nbconvert_exporter": "python",
   "pygments_lexer": "ipython3",
   "version": "3.8.10 (default, Jun 22 2022, 20:18:18) \n[GCC 9.4.0]"
  },
  "vscode": {
   "interpreter": {
    "hash": "31f2aee4e71d21fbe5cf8b01ff0e069b9275f58929596ceb00d14d90e3e16cd6"
   }
  }
 },
 "nbformat": 4,
 "nbformat_minor": 4
}
